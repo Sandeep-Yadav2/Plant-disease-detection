{
  "nbformat": 4,
  "nbformat_minor": 0,
  "metadata": {
    "colab": {
      "name": "Capstone_project.ipynb",
      "provenance": []
    },
    "kernelspec": {
      "name": "python3",
      "display_name": "Python 3"
    },
    "accelerator": "GPU"
  },
  "cells": [
    {
      "cell_type": "code",
      "metadata": {
        "id": "VOqsYEgwJ5Rl"
      },
      "source": [
        "import pandas as pd\r\n",
        "import tensorflow as tf\r\n",
        "import os\r\n",
        "import matplotlib.pyplot as plt\r\n",
        "from keras.layers import Dense,GlobalAveragePooling2D\r\n",
        "from keras.applications import MobileNet\r\n",
        "from keras.preprocessing import image\r\n",
        "from keras.applications.mobilenet import preprocess_input\r\n",
        "from keras.preprocessing.image import ImageDataGenerator\r\n",
        "from keras.models import Model\r\n",
        "from keras.optimizers import Adam\r\n",
        "import matplotlib.pyplot as plt\r\n",
        "from sklearn.datasets import make_blobs\r\n",
        "from sklearn.model_selection import train_test_split"
      ],
      "execution_count": 28,
      "outputs": []
    },
    {
      "cell_type": "markdown",
      "metadata": {
        "id": "JIOjBPoqSmbI"
      },
      "source": [
        "#collecting the dataset from drive and split into tarining and validation set"
      ]
    },
    {
      "cell_type": "code",
      "metadata": {
        "colab": {
          "base_uri": "https://localhost:8080/"
        },
        "id": "Eh4wqbGRQ1cN",
        "outputId": "972735aa-bf3a-4b04-fa74-820ea49a553b"
      },
      "source": [
        "pip install split-folders"
      ],
      "execution_count": 24,
      "outputs": [
        {
          "output_type": "stream",
          "text": [
            "Collecting split-folders\n",
            "  Downloading https://files.pythonhosted.org/packages/b8/5f/3c2b2f7ea5e047c8cdc3bb00ae582c5438fcdbbedcc23b3cc1c2c7aae642/split_folders-0.4.3-py3-none-any.whl\n",
            "Installing collected packages: split-folders\n",
            "Successfully installed split-folders-0.4.3\n"
          ],
          "name": "stdout"
        }
      ]
    },
    {
      "cell_type": "code",
      "metadata": {
        "id": "-BHfzOQ_KOET"
      },
      "source": [
        "url='https://drive.google.com/file/d/12cy6nEEDAfL6isqnTlJIRy8NZLPtIMpE/view?usp=sharing'\r\n",
        "data=tf.keras.utils.get_file('archive.zip',extract=True,\r\n",
        "                            origin=url)\r\n",
        "path=os.path.join(os.path.dirname(data),'plantvillage dataset')\r\n"
      ],
      "execution_count": 16,
      "outputs": []
    },
    {
      "cell_type": "code",
      "metadata": {
        "id": "7omqkhmqLPgG"
      },
      "source": [
        ""
      ],
      "execution_count": 21,
      "outputs": []
    },
    {
      "cell_type": "code",
      "metadata": {
        "id": "T23Nk1pDNu9W"
      },
      "source": [
        "!unzip '/content/drive/MyDrive/Capstone_project/archive.zip'"
      ],
      "execution_count": null,
      "outputs": []
    },
    {
      "cell_type": "code",
      "metadata": {
        "id": "jr-1SGkqOXrw"
      },
      "source": [
        "import splitfolders  # or import split_folders\r\n",
        "\r\n",
        "# Split with a ratio.\r\n",
        "# To only split into training and validation set, set a tuple to `ratio`, i.e, `(.8, .2)`.\r\n",
        "splitfolders.ratio('/content/plantvillage dataset/segmented', output=\"output\", seed=1337, ratio=(.8, .2), group_prefix=None) # default values"
      ],
      "execution_count": null,
      "outputs": []
    },
    {
      "cell_type": "code",
      "metadata": {
        "colab": {
          "base_uri": "https://localhost:8080/"
        },
        "id": "3ivE8JekSA2p",
        "outputId": "4c490acc-2474-48a6-e075-4842f8c20fd1"
      },
      "source": [
        "train_datagen=ImageDataGenerator(preprocessing_function=preprocess_input) #included in our dependencies\r\n",
        "\r\n",
        "train_generator=train_datagen.flow_from_directory('./output/train', # this is where you specify the path to the main data folder\r\n",
        "                                                 target_size=(224,224),\r\n",
        "                                                 color_mode='rgb',\r\n",
        "                                                 batch_size=32,\r\n",
        "                                                 class_mode='categorical',\r\n",
        "                                                 shuffle=True)"
      ],
      "execution_count": 29,
      "outputs": [
        {
          "output_type": "stream",
          "text": [
            "Found 43430 images belonging to 38 classes.\n"
          ],
          "name": "stdout"
        }
      ]
    },
    {
      "cell_type": "code",
      "metadata": {
        "colab": {
          "base_uri": "https://localhost:8080/"
        },
        "id": "n3SVt_PzSUn5",
        "outputId": "6b1bd3b2-7722-44e5-97f7-d781a4ed6442"
      },
      "source": [
        "val_datagen=ImageDataGenerator(preprocessing_function=preprocess_input) #included in our dependencies\r\n",
        "\r\n",
        "val_generator=train_datagen.flow_from_directory('./output/val', # this is where you specify the path to the main data folder\r\n",
        "                                                 target_size=(224,224),\r\n",
        "                                                 color_mode='rgb',\r\n",
        "                                                 batch_size=32,\r\n",
        "                                                 class_mode='categorical',\r\n",
        "                                                 shuffle=True)"
      ],
      "execution_count": 30,
      "outputs": [
        {
          "output_type": "stream",
          "text": [
            "Found 10876 images belonging to 38 classes.\n"
          ],
          "name": "stdout"
        }
      ]
    },
    {
      "cell_type": "code",
      "metadata": {
        "id": "90d9ejRrScQo"
      },
      "source": [
        ""
      ],
      "execution_count": null,
      "outputs": []
    }
  ]
}